{
 "cells": [
  {
   "cell_type": "code",
   "execution_count": 19,
   "id": "f0cd1d39",
   "metadata": {},
   "outputs": [],
   "source": [
    "#Import Packages\n",
    "from selenium import webdriver\n",
    "import time\n",
    "import pandas as pd\n",
    "import os"
   ]
  },
  {
   "cell_type": "code",
   "execution_count": 20,
   "id": "3d450bca",
   "metadata": {},
   "outputs": [],
   "source": [
    "#Import Packages\n",
    "\n",
    "from selenium.webdriver.support.select import Select\n",
    "from selenium.webdriver.support.ui import WebDriverWait\n",
    "from selenium.webdriver.common.by import By\n",
    "from selenium.webdriver.support import expected_conditions as EC"
   ]
  },
  {
   "cell_type": "code",
   "execution_count": 21,
   "id": "83770aa2",
   "metadata": {},
   "outputs": [],
   "source": [
    "#Use this Url and change city or role accordingly\n",
    "\n",
    "url1='https://www.linkedin.com/jobs/search?keywords=Node.Js&location=Texas&geoId=102748797&f_TPR=r86400&position=1&pageNum=0'"
   ]
  },
  {
   "cell_type": "code",
   "execution_count": 22,
   "id": "0108d5fc",
   "metadata": {},
   "outputs": [],
   "source": [
    "from selenium import webdriver\n",
    "from selenium.webdriver.chrome.service import Service\n",
    "\n",
    "# Specify the path to your ChromeDriver\n",
    "service = Service(r'C:\\Users\\zunai\\Drivers\\chromedriver.exe')\n",
    "\n",
    "# Load the web driver\n",
    "driver = webdriver.Chrome(service=service)\n",
    "driver.implicitly_wait(10)\n",
    "\n",
    "# Get the URL\n",
    "driver.get(url1)"
   ]
  },
  {
   "cell_type": "code",
   "execution_count": 23,
   "id": "5825f4c8",
   "metadata": {},
   "outputs": [],
   "source": [
    "from selenium.webdriver.common.by import By\n",
    "\n",
    "# Find the number of job listings using the updated method\n",
    "a = driver.find_elements(By.CLASS_NAME, 'results-context-header__job-count')[0].text\n"
   ]
  },
  {
   "cell_type": "code",
   "execution_count": 24,
   "id": "57d017d5",
   "metadata": {},
   "outputs": [
    {
     "data": {
      "text/plain": [
       "'47'"
      ]
     },
     "execution_count": 24,
     "metadata": {},
     "output_type": "execute_result"
    }
   ],
   "source": [
    "a"
   ]
  },
  {
   "cell_type": "code",
   "execution_count": 25,
   "id": "d53fd3e8",
   "metadata": {},
   "outputs": [],
   "source": [
    "b = a.replace(\",\", \"\")\n"
   ]
  },
  {
   "cell_type": "code",
   "execution_count": 26,
   "id": "1f98eaf5",
   "metadata": {},
   "outputs": [],
   "source": [
    "c= b.replace(\"+\",\"\")\n"
   ]
  },
  {
   "cell_type": "code",
   "execution_count": 27,
   "id": "059043a9",
   "metadata": {},
   "outputs": [
    {
     "data": {
      "text/plain": [
       "str"
      ]
     },
     "execution_count": 27,
     "metadata": {},
     "output_type": "execute_result"
    }
   ],
   "source": [
    "type(c)\n"
   ]
  },
  {
   "cell_type": "code",
   "execution_count": 28,
   "id": "2c63d365",
   "metadata": {},
   "outputs": [],
   "source": [
    "n=pd.to_numeric(c)\n"
   ]
  },
  {
   "cell_type": "code",
   "execution_count": 29,
   "id": "3271c9cb",
   "metadata": {},
   "outputs": [
    {
     "data": {
      "text/plain": [
       "47"
      ]
     },
     "execution_count": 29,
     "metadata": {},
     "output_type": "execute_result"
    }
   ],
   "source": [
    "n"
   ]
  },
  {
   "cell_type": "code",
   "execution_count": 30,
   "id": "1d3e5b0d",
   "metadata": {},
   "outputs": [],
   "source": [
    "# Initialize the string variable with a default value that indicates it hasn't been found\n",
    "end_message = \"\"\n"
   ]
  },
  {
   "cell_type": "code",
   "execution_count": 31,
   "id": "ca80088e",
   "metadata": {},
   "outputs": [],
   "source": [
    "# Set a maximum number of iterations to prevent infinite loops\n",
    "max_iterations = n"
   ]
  },
  {
   "cell_type": "code",
   "execution_count": 32,
   "id": "dd057b8c",
   "metadata": {},
   "outputs": [
    {
     "data": {
      "text/plain": [
       "1"
      ]
     },
     "execution_count": 32,
     "metadata": {},
     "output_type": "execute_result"
    }
   ],
   "source": [
    "max_iterations = max_iterations//25\n",
    "max_iterations"
   ]
  },
  {
   "cell_type": "code",
   "execution_count": 33,
   "id": "f5aa2082",
   "metadata": {
    "scrolled": false
   },
   "outputs": [
    {
     "name": "stdout",
     "output_type": "stream",
     "text": [
      "Starting scroll iteration 0\n",
      "Trying to find and click 'see more jobs' button\n",
      "Error occurred: Message: no such element: Unable to locate element: {\"method\":\"xpath\",\"selector\":\"//button[@aria-label='Load more results']\"}\n",
      "  (Session info: chrome=128.0.6613.120)\n",
      "Stacktrace:\n",
      "\tGetHandleVerifier [0x00007FF79D0AB5D2+29090]\n",
      "\t(No symbol) [0x00007FF79D01E689]\n",
      "\t(No symbol) [0x00007FF79CEDB1CA]\n",
      "\t(No symbol) [0x00007FF79CF2EFD7]\n",
      "\t(No symbol) [0x00007FF79CF2F22C]\n",
      "\t(No symbol) [0x00007FF79CF797F7]\n",
      "\t(No symbol) [0x00007FF79CF5672F]\n",
      "\t(No symbol) [0x00007FF79CF765D9]\n",
      "\t(No symbol) [0x00007FF79CF56493]\n",
      "\t(No symbol) [0x00007FF79CF209B1]\n",
      "\t(No symbol) [0x00007FF79CF21B11]\n",
      "\tGetHandleVerifier [0x00007FF79D3C8C5D+3295277]\n",
      "\tGetHandleVerifier [0x00007FF79D414843+3605523]\n",
      "\tGetHandleVerifier [0x00007FF79D40A707+3564247]\n",
      "\tGetHandleVerifier [0x00007FF79D166EB6+797318]\n",
      "\t(No symbol) [0x00007FF79D02980F]\n",
      "\t(No symbol) [0x00007FF79D0253F4]\n",
      "\t(No symbol) [0x00007FF79D025580]\n",
      "\t(No symbol) [0x00007FF79D014A1F]\n",
      "\tBaseThreadInitThunk [0x00007FFA7B2953E0+16]\n",
      "\tRtlUserThreadStart [0x00007FFA7BFE485B+43]\n",
      "\n",
      "Error occurred while finding end message: Message: \n",
      "Stacktrace:\n",
      "\tGetHandleVerifier [0x00007FF79D0AB5D2+29090]\n",
      "\t(No symbol) [0x00007FF79D01E689]\n",
      "\t(No symbol) [0x00007FF79CEDB1CA]\n",
      "\t(No symbol) [0x00007FF79CF2EFD7]\n",
      "\t(No symbol) [0x00007FF79CF2F22C]\n",
      "\t(No symbol) [0x00007FF79CF797F7]\n",
      "\t(No symbol) [0x00007FF79CF5672F]\n",
      "\t(No symbol) [0x00007FF79CF765D9]\n",
      "\t(No symbol) [0x00007FF79CF56493]\n",
      "\t(No symbol) [0x00007FF79CF209B1]\n",
      "\t(No symbol) [0x00007FF79CF21B11]\n",
      "\tGetHandleVerifier [0x00007FF79D3C8C5D+3295277]\n",
      "\tGetHandleVerifier [0x00007FF79D414843+3605523]\n",
      "\tGetHandleVerifier [0x00007FF79D40A707+3564247]\n",
      "\tGetHandleVerifier [0x00007FF79D166EB6+797318]\n",
      "\t(No symbol) [0x00007FF79D02980F]\n",
      "\t(No symbol) [0x00007FF79D0253F4]\n",
      "\t(No symbol) [0x00007FF79D025580]\n",
      "\t(No symbol) [0x00007FF79D014A1F]\n",
      "\tBaseThreadInitThunk [0x00007FFA7B2953E0+16]\n",
      "\tRtlUserThreadStart [0x00007FFA7BFE485B+43]\n",
      "\n",
      "String variable not found after maximum iterations.\n"
     ]
    }
   ],
   "source": [
    "# Start the while loop\n",
    "iteration = 0\n",
    "while end_message == \"\" and iteration <= max_iterations:\n",
    "    print(f\"Starting scroll iteration {iteration}\")\n",
    "    driver.execute_script(\"window.scrollTo(0, document.body.scrollHeight);\")\n",
    "    iteration = iteration + 1\n",
    "\n",
    "    try:\n",
    "        print(\"Trying to find and click 'see more jobs' button\")\n",
    "        #send = driver.find_element(By.infinite-scroller__show-more-button, \"tomatoes\")\".infinite-scroller__show-more-button:contains('see more jobs')\").click()\n",
    "        send=driver.find_element(By.XPATH, \"//button[@aria-label='Load more results']\")\n",
    "        #send = driver.find_element(By.CSS_SELECTOR, 'button.infinite-scroller__show-more-button')\n",
    "        \n",
    "        # Click the button\n",
    "        send.click()\n",
    "        \n",
    "        print(\"Clicked 'see more jobs' button\")\n",
    "\n",
    "        time.sleep(3)\n",
    "\n",
    "    except Exception as e:\n",
    "        print(f\"Error occurred: {e}\")\n",
    "        pass\n",
    "\n",
    "    time.sleep(5)\n",
    "    \n",
    "    \n",
    "    #     /html/body/div[1]/div/main/section[2]/div[2]/p\n",
    "    #     /html/body/div[1]/div/main/section[2]/div[2]/p/text()\n",
    "    #end_message = driver.find_elements(By.XPATH, \"//[@id='main-content']/section[2]/div[2]/p/text()\")\n",
    "    try:\n",
    "        end_message = WebDriverWait(driver, 10).until(\n",
    "            EC.presence_of_element_located((By.XPATH, \"//div[@class='inline-notification__text text-sm leading-regular']\"))\n",
    "        )\n",
    "        print(f\"Iteration {iteration}: Found end message\")\n",
    "    \n",
    "    except Exception as e:\n",
    "        print(f\"Error occurred while finding end message: {e}\")\n",
    "        #end_message = driver.find_element(By.CSS_SELECTOR, \"inline-notification__text.text-sm.leading-regular\")\n",
    "    #end_message = driver.find_element(By.CSS_SELECTOR, \"inline-notification__text.text-sm.leading-regular:contains(\"You've viewed all jobs for this search\")\")\n",
    "    #driver.find_element(By.CSS_SELECTOR, '.inline-notification__text.text-sm.leading-regular:contains(\"your_text_here\")')\n",
    "    # Print the current value for debugging purposes\n",
    "    #print(f\"Iteration {iteration}: end_message = {end_message}\")\n",
    "    \n",
    "\n",
    "    # Introduce a delay between iterations to avoid overwhelming the server\n",
    "    time.sleep(1)\n",
    "\n",
    "    iteration += 1\n",
    "\n",
    "# Check if the string was found or if the maximum iterations were reached\n",
    "if end_message == \"\":\n",
    "    print(\"String variable not found after maximum iterations.\")\n",
    "else:\n",
    "    print(\"String variable found:\", end_message)"
   ]
  },
  {
   "cell_type": "code",
   "execution_count": 34,
   "id": "07969a11",
   "metadata": {},
   "outputs": [],
   "source": [
    "#Create empty lists for company name and job title\n",
    "\n",
    "companyname= []\n",
    "titlename= []\n"
   ]
  },
  {
   "cell_type": "code",
   "execution_count": 35,
   "id": "b3a38aa3",
   "metadata": {},
   "outputs": [
    {
     "name": "stdout",
     "output_type": "stream",
     "text": [
      "['Interclypse', 'Phoenix Recruitment', 'Pinnacle Group, Inc.', 'eTeam', 'ITC Infotech', 'SS&C Technologies', 'GameStop', 'Broadcom Software', 'Adobe', 'Open Systems Inc.', 'RightWorks', 'Ampcus Inc', 'MetroNational', 'Dice', 'Verdant Infotech Solutions', 'Dice', 'Aledade, Inc.', 'Capital One', 'Fathom Management, LLC', 'Episodic', 'RemoteWorker CA', 'Foot Locker', 'Capital One', 'RemoteWorker US', 'Dice', 'CrowdStrike', 'Jobot', 'CyberCoders', 'Capital One', 'Capital One', 'Dice', 'GM Financial', 'Jobot', 'Dice', 'Capital One', 'Microsoft', 'Dice', 'Burlington Stores, Inc.', 'Burlington Stores, Inc.', 'Dice', 'Burlington Stores, Inc.', 'Aha!', 'Aha!', 'Aha!', 'Aha!', 'Aha!']\n"
     ]
    }
   ],
   "source": [
    "try:\n",
    "    # Find all elements with the class name\n",
    "    companies = driver.find_elements(By.CLASS_NAME, 'base-search-card__subtitle')\n",
    "    \n",
    "    for i in range(len(companies)):\n",
    "        # Get the text of each company element\n",
    "        company = companies[i].text\n",
    "        companyname.append(company)\n",
    "\n",
    "except IndexError:\n",
    "    print(\"IndexError: List index out of range\")\n",
    "except Exception as e:\n",
    "    print(f\"Error occurred: {e}\")\n",
    "\n",
    "print(companyname)\n"
   ]
  },
  {
   "cell_type": "code",
   "execution_count": 36,
   "id": "78d14bc4",
   "metadata": {},
   "outputs": [
    {
     "data": {
      "text/plain": [
       "46"
      ]
     },
     "execution_count": 36,
     "metadata": {},
     "output_type": "execute_result"
    }
   ],
   "source": [
    "len(companyname)"
   ]
  },
  {
   "cell_type": "code",
   "execution_count": 37,
   "id": "8fa2a000",
   "metadata": {},
   "outputs": [
    {
     "name": "stdout",
     "output_type": "stream",
     "text": [
      "['Software Engineer', 'Full Stack Web Developer', 'Full Stack Developer (Vue.JS, AWS, Spinnaker, Docker, MongoDB, Node.JS, Express.JS)', 'Full Stack Engineer', 'Terraform Developer', 'Software Engineer, Front-End', 'Lead Software Engineer', 'Senior Frontend Developer', 'Founding Engineer, Incubator', 'Software Developer 4', 'Senior Software Engineer', 'Principal Consultant Java Developer', 'Application Developer - Software Data Engineer', 'Payments Software Engineer', 'Software Engineer RoR (Ruby on Rails)', 'Software Engineer', 'Senior Software Engineer II - AI/ML', 'Senior Software Engineer, Back End', 'Junior IBMi RPG Programmer', 'CTO / Head of Engineering (AI & Full-Stack)', 'Principal Software Engineer - Digital Assets APIs', 'Lead Software Engineer, Integrations', 'Senior Software Engineer, Back End', 'Hybrid Opportunity for Sitecore Developer in Dallas for our direct client', 'Senior Full Stack Cloud Developer', 'Sr. Software Engineer - Cloud Platform Reliability (Remote)', 'Senior React Native Developer', 'Remote Sr Backend Engineer (Node/AWS/Serverless Architecture)', 'Lead Software Engineer, Front End (React, TypeScript, JavaScript)', 'Senior Manager, Software Engineering, Back End', 'Senior Software Engineer', 'Software Development Engineer III - AI/ML or Gen AI', 'Lead Growth Engineer', 'Fullstack Engineer (Angular)', 'Senior Lead Software Engineer, Front End - IC', 'Senior Software Engineer - Azure Compute Team', 'Senior Software Engineer (Python / Django)', 'Retail Front End Supervisor - Full-Time', 'Retail Front End Supervisor - Full-Time', 'Alarm/CCTV Programmer', 'Retail Front End Supervisor - Full-Time', 'Sr. Ruby on Rails Engineer (Security)', 'Sr. Ruby on Rails Engineer (Security)', 'Sr. Ruby on Rails Engineer (Security)', 'Sr. Ruby on Rails Engineer (Security)', 'Sr. Ruby on Rails Engineer (Security)']\n"
     ]
    }
   ],
   "source": [
    "try:\n",
    "    # Find all elements with the class name\n",
    "    titles = driver.find_elements(By.CLASS_NAME, 'base-search-card__title')\n",
    "    \n",
    "    for i in range(len(titles)):\n",
    "        # Get the text of each title element\n",
    "        title = titles[i].text\n",
    "        titlename.append(title)\n",
    "\n",
    "except IndexError:\n",
    "    print(\"IndexError: List index out of range\")\n",
    "except Exception as e:\n",
    "    print(f\"Error occurred: {e}\")\n",
    "\n",
    "print(titlename)\n"
   ]
  },
  {
   "cell_type": "code",
   "execution_count": 38,
   "id": "71bff8fc",
   "metadata": {},
   "outputs": [
    {
     "data": {
      "text/plain": [
       "46"
      ]
     },
     "execution_count": 38,
     "metadata": {},
     "output_type": "execute_result"
    }
   ],
   "source": [
    "len(titlename)\n"
   ]
  },
  {
   "cell_type": "code",
   "execution_count": 39,
   "id": "6a103668",
   "metadata": {},
   "outputs": [],
   "source": [
    "#Create dataframe for company name and title\n",
    "\n",
    "companyfinal=pd.DataFrame(companyname,columns=[\"company\"])\n",
    "titlefinal=pd.DataFrame(titlename,columns=[\"title\"])\n",
    "\n"
   ]
  },
  {
   "cell_type": "code",
   "execution_count": 40,
   "id": "407f087e",
   "metadata": {},
   "outputs": [],
   "source": [
    "#Join the two lists\n",
    "\n",
    "x=companyfinal.join(titlefinal)\n"
   ]
  },
  {
   "cell_type": "code",
   "execution_count": 41,
   "id": "a91b54bf",
   "metadata": {},
   "outputs": [
    {
     "data": {
      "text/html": [
       "<div>\n",
       "<style scoped>\n",
       "    .dataframe tbody tr th:only-of-type {\n",
       "        vertical-align: middle;\n",
       "    }\n",
       "\n",
       "    .dataframe tbody tr th {\n",
       "        vertical-align: top;\n",
       "    }\n",
       "\n",
       "    .dataframe thead th {\n",
       "        text-align: right;\n",
       "    }\n",
       "</style>\n",
       "<table border=\"1\" class=\"dataframe\">\n",
       "  <thead>\n",
       "    <tr style=\"text-align: right;\">\n",
       "      <th></th>\n",
       "      <th>company</th>\n",
       "      <th>title</th>\n",
       "    </tr>\n",
       "  </thead>\n",
       "  <tbody>\n",
       "    <tr>\n",
       "      <th>0</th>\n",
       "      <td>Interclypse</td>\n",
       "      <td>Software Engineer</td>\n",
       "    </tr>\n",
       "    <tr>\n",
       "      <th>1</th>\n",
       "      <td>Phoenix Recruitment</td>\n",
       "      <td>Full Stack Web Developer</td>\n",
       "    </tr>\n",
       "    <tr>\n",
       "      <th>2</th>\n",
       "      <td>Pinnacle Group, Inc.</td>\n",
       "      <td>Full Stack Developer (Vue.JS, AWS, Spinnaker, ...</td>\n",
       "    </tr>\n",
       "    <tr>\n",
       "      <th>3</th>\n",
       "      <td>eTeam</td>\n",
       "      <td>Full Stack Engineer</td>\n",
       "    </tr>\n",
       "    <tr>\n",
       "      <th>4</th>\n",
       "      <td>ITC Infotech</td>\n",
       "      <td>Terraform Developer</td>\n",
       "    </tr>\n",
       "    <tr>\n",
       "      <th>5</th>\n",
       "      <td>SS&amp;C Technologies</td>\n",
       "      <td>Software Engineer, Front-End</td>\n",
       "    </tr>\n",
       "    <tr>\n",
       "      <th>6</th>\n",
       "      <td>GameStop</td>\n",
       "      <td>Lead Software Engineer</td>\n",
       "    </tr>\n",
       "    <tr>\n",
       "      <th>7</th>\n",
       "      <td>Broadcom Software</td>\n",
       "      <td>Senior Frontend Developer</td>\n",
       "    </tr>\n",
       "    <tr>\n",
       "      <th>8</th>\n",
       "      <td>Adobe</td>\n",
       "      <td>Founding Engineer, Incubator</td>\n",
       "    </tr>\n",
       "    <tr>\n",
       "      <th>9</th>\n",
       "      <td>Open Systems Inc.</td>\n",
       "      <td>Software Developer 4</td>\n",
       "    </tr>\n",
       "    <tr>\n",
       "      <th>10</th>\n",
       "      <td>RightWorks</td>\n",
       "      <td>Senior Software Engineer</td>\n",
       "    </tr>\n",
       "    <tr>\n",
       "      <th>11</th>\n",
       "      <td>Ampcus Inc</td>\n",
       "      <td>Principal Consultant Java Developer</td>\n",
       "    </tr>\n",
       "    <tr>\n",
       "      <th>12</th>\n",
       "      <td>MetroNational</td>\n",
       "      <td>Application Developer - Software Data Engineer</td>\n",
       "    </tr>\n",
       "    <tr>\n",
       "      <th>13</th>\n",
       "      <td>Dice</td>\n",
       "      <td>Payments Software Engineer</td>\n",
       "    </tr>\n",
       "    <tr>\n",
       "      <th>14</th>\n",
       "      <td>Verdant Infotech Solutions</td>\n",
       "      <td>Software Engineer RoR (Ruby on Rails)</td>\n",
       "    </tr>\n",
       "    <tr>\n",
       "      <th>15</th>\n",
       "      <td>Dice</td>\n",
       "      <td>Software Engineer</td>\n",
       "    </tr>\n",
       "    <tr>\n",
       "      <th>16</th>\n",
       "      <td>Aledade, Inc.</td>\n",
       "      <td>Senior Software Engineer II - AI/ML</td>\n",
       "    </tr>\n",
       "    <tr>\n",
       "      <th>17</th>\n",
       "      <td>Capital One</td>\n",
       "      <td>Senior Software Engineer, Back End</td>\n",
       "    </tr>\n",
       "    <tr>\n",
       "      <th>18</th>\n",
       "      <td>Fathom Management, LLC</td>\n",
       "      <td>Junior IBMi RPG Programmer</td>\n",
       "    </tr>\n",
       "    <tr>\n",
       "      <th>19</th>\n",
       "      <td>Episodic</td>\n",
       "      <td>CTO / Head of Engineering (AI &amp; Full-Stack)</td>\n",
       "    </tr>\n",
       "    <tr>\n",
       "      <th>20</th>\n",
       "      <td>RemoteWorker CA</td>\n",
       "      <td>Principal Software Engineer - Digital Assets APIs</td>\n",
       "    </tr>\n",
       "    <tr>\n",
       "      <th>21</th>\n",
       "      <td>Foot Locker</td>\n",
       "      <td>Lead Software Engineer, Integrations</td>\n",
       "    </tr>\n",
       "    <tr>\n",
       "      <th>22</th>\n",
       "      <td>Capital One</td>\n",
       "      <td>Senior Software Engineer, Back End</td>\n",
       "    </tr>\n",
       "    <tr>\n",
       "      <th>23</th>\n",
       "      <td>RemoteWorker US</td>\n",
       "      <td>Hybrid Opportunity for Sitecore Developer in D...</td>\n",
       "    </tr>\n",
       "    <tr>\n",
       "      <th>24</th>\n",
       "      <td>Dice</td>\n",
       "      <td>Senior Full Stack Cloud Developer</td>\n",
       "    </tr>\n",
       "    <tr>\n",
       "      <th>25</th>\n",
       "      <td>CrowdStrike</td>\n",
       "      <td>Sr. Software Engineer - Cloud Platform Reliabi...</td>\n",
       "    </tr>\n",
       "    <tr>\n",
       "      <th>26</th>\n",
       "      <td>Jobot</td>\n",
       "      <td>Senior React Native Developer</td>\n",
       "    </tr>\n",
       "    <tr>\n",
       "      <th>27</th>\n",
       "      <td>CyberCoders</td>\n",
       "      <td>Remote Sr Backend Engineer (Node/AWS/Serverles...</td>\n",
       "    </tr>\n",
       "    <tr>\n",
       "      <th>28</th>\n",
       "      <td>Capital One</td>\n",
       "      <td>Lead Software Engineer, Front End (React, Type...</td>\n",
       "    </tr>\n",
       "    <tr>\n",
       "      <th>29</th>\n",
       "      <td>Capital One</td>\n",
       "      <td>Senior Manager, Software Engineering, Back End</td>\n",
       "    </tr>\n",
       "    <tr>\n",
       "      <th>30</th>\n",
       "      <td>Dice</td>\n",
       "      <td>Senior Software Engineer</td>\n",
       "    </tr>\n",
       "    <tr>\n",
       "      <th>31</th>\n",
       "      <td>GM Financial</td>\n",
       "      <td>Software Development Engineer III - AI/ML or G...</td>\n",
       "    </tr>\n",
       "    <tr>\n",
       "      <th>32</th>\n",
       "      <td>Jobot</td>\n",
       "      <td>Lead Growth Engineer</td>\n",
       "    </tr>\n",
       "    <tr>\n",
       "      <th>33</th>\n",
       "      <td>Dice</td>\n",
       "      <td>Fullstack Engineer (Angular)</td>\n",
       "    </tr>\n",
       "    <tr>\n",
       "      <th>34</th>\n",
       "      <td>Capital One</td>\n",
       "      <td>Senior Lead Software Engineer, Front End - IC</td>\n",
       "    </tr>\n",
       "    <tr>\n",
       "      <th>35</th>\n",
       "      <td>Microsoft</td>\n",
       "      <td>Senior Software Engineer - Azure Compute Team</td>\n",
       "    </tr>\n",
       "    <tr>\n",
       "      <th>36</th>\n",
       "      <td>Dice</td>\n",
       "      <td>Senior Software Engineer (Python / Django)</td>\n",
       "    </tr>\n",
       "    <tr>\n",
       "      <th>37</th>\n",
       "      <td>Burlington Stores, Inc.</td>\n",
       "      <td>Retail Front End Supervisor - Full-Time</td>\n",
       "    </tr>\n",
       "    <tr>\n",
       "      <th>38</th>\n",
       "      <td>Burlington Stores, Inc.</td>\n",
       "      <td>Retail Front End Supervisor - Full-Time</td>\n",
       "    </tr>\n",
       "    <tr>\n",
       "      <th>39</th>\n",
       "      <td>Dice</td>\n",
       "      <td>Alarm/CCTV Programmer</td>\n",
       "    </tr>\n",
       "    <tr>\n",
       "      <th>40</th>\n",
       "      <td>Burlington Stores, Inc.</td>\n",
       "      <td>Retail Front End Supervisor - Full-Time</td>\n",
       "    </tr>\n",
       "    <tr>\n",
       "      <th>41</th>\n",
       "      <td>Aha!</td>\n",
       "      <td>Sr. Ruby on Rails Engineer (Security)</td>\n",
       "    </tr>\n",
       "    <tr>\n",
       "      <th>42</th>\n",
       "      <td>Aha!</td>\n",
       "      <td>Sr. Ruby on Rails Engineer (Security)</td>\n",
       "    </tr>\n",
       "    <tr>\n",
       "      <th>43</th>\n",
       "      <td>Aha!</td>\n",
       "      <td>Sr. Ruby on Rails Engineer (Security)</td>\n",
       "    </tr>\n",
       "    <tr>\n",
       "      <th>44</th>\n",
       "      <td>Aha!</td>\n",
       "      <td>Sr. Ruby on Rails Engineer (Security)</td>\n",
       "    </tr>\n",
       "    <tr>\n",
       "      <th>45</th>\n",
       "      <td>Aha!</td>\n",
       "      <td>Sr. Ruby on Rails Engineer (Security)</td>\n",
       "    </tr>\n",
       "  </tbody>\n",
       "</table>\n",
       "</div>"
      ],
      "text/plain": [
       "                       company  \\\n",
       "0                  Interclypse   \n",
       "1          Phoenix Recruitment   \n",
       "2         Pinnacle Group, Inc.   \n",
       "3                        eTeam   \n",
       "4                 ITC Infotech   \n",
       "5            SS&C Technologies   \n",
       "6                     GameStop   \n",
       "7            Broadcom Software   \n",
       "8                        Adobe   \n",
       "9            Open Systems Inc.   \n",
       "10                  RightWorks   \n",
       "11                  Ampcus Inc   \n",
       "12               MetroNational   \n",
       "13                        Dice   \n",
       "14  Verdant Infotech Solutions   \n",
       "15                        Dice   \n",
       "16               Aledade, Inc.   \n",
       "17                 Capital One   \n",
       "18      Fathom Management, LLC   \n",
       "19                    Episodic   \n",
       "20             RemoteWorker CA   \n",
       "21                 Foot Locker   \n",
       "22                 Capital One   \n",
       "23             RemoteWorker US   \n",
       "24                        Dice   \n",
       "25                 CrowdStrike   \n",
       "26                       Jobot   \n",
       "27                 CyberCoders   \n",
       "28                 Capital One   \n",
       "29                 Capital One   \n",
       "30                        Dice   \n",
       "31                GM Financial   \n",
       "32                       Jobot   \n",
       "33                        Dice   \n",
       "34                 Capital One   \n",
       "35                   Microsoft   \n",
       "36                        Dice   \n",
       "37     Burlington Stores, Inc.   \n",
       "38     Burlington Stores, Inc.   \n",
       "39                        Dice   \n",
       "40     Burlington Stores, Inc.   \n",
       "41                        Aha!   \n",
       "42                        Aha!   \n",
       "43                        Aha!   \n",
       "44                        Aha!   \n",
       "45                        Aha!   \n",
       "\n",
       "                                                title  \n",
       "0                                   Software Engineer  \n",
       "1                            Full Stack Web Developer  \n",
       "2   Full Stack Developer (Vue.JS, AWS, Spinnaker, ...  \n",
       "3                                 Full Stack Engineer  \n",
       "4                                 Terraform Developer  \n",
       "5                        Software Engineer, Front-End  \n",
       "6                              Lead Software Engineer  \n",
       "7                           Senior Frontend Developer  \n",
       "8                        Founding Engineer, Incubator  \n",
       "9                                Software Developer 4  \n",
       "10                           Senior Software Engineer  \n",
       "11                Principal Consultant Java Developer  \n",
       "12     Application Developer - Software Data Engineer  \n",
       "13                         Payments Software Engineer  \n",
       "14              Software Engineer RoR (Ruby on Rails)  \n",
       "15                                  Software Engineer  \n",
       "16                Senior Software Engineer II - AI/ML  \n",
       "17                 Senior Software Engineer, Back End  \n",
       "18                         Junior IBMi RPG Programmer  \n",
       "19        CTO / Head of Engineering (AI & Full-Stack)  \n",
       "20  Principal Software Engineer - Digital Assets APIs  \n",
       "21               Lead Software Engineer, Integrations  \n",
       "22                 Senior Software Engineer, Back End  \n",
       "23  Hybrid Opportunity for Sitecore Developer in D...  \n",
       "24                  Senior Full Stack Cloud Developer  \n",
       "25  Sr. Software Engineer - Cloud Platform Reliabi...  \n",
       "26                      Senior React Native Developer  \n",
       "27  Remote Sr Backend Engineer (Node/AWS/Serverles...  \n",
       "28  Lead Software Engineer, Front End (React, Type...  \n",
       "29     Senior Manager, Software Engineering, Back End  \n",
       "30                           Senior Software Engineer  \n",
       "31  Software Development Engineer III - AI/ML or G...  \n",
       "32                               Lead Growth Engineer  \n",
       "33                       Fullstack Engineer (Angular)  \n",
       "34      Senior Lead Software Engineer, Front End - IC  \n",
       "35      Senior Software Engineer - Azure Compute Team  \n",
       "36         Senior Software Engineer (Python / Django)  \n",
       "37            Retail Front End Supervisor - Full-Time  \n",
       "38            Retail Front End Supervisor - Full-Time  \n",
       "39                              Alarm/CCTV Programmer  \n",
       "40            Retail Front End Supervisor - Full-Time  \n",
       "41              Sr. Ruby on Rails Engineer (Security)  \n",
       "42              Sr. Ruby on Rails Engineer (Security)  \n",
       "43              Sr. Ruby on Rails Engineer (Security)  \n",
       "44              Sr. Ruby on Rails Engineer (Security)  \n",
       "45              Sr. Ruby on Rails Engineer (Security)  "
      ]
     },
     "execution_count": 41,
     "metadata": {},
     "output_type": "execute_result"
    }
   ],
   "source": [
    "x"
   ]
  },
  {
   "cell_type": "code",
   "execution_count": 42,
   "id": "4316f109",
   "metadata": {},
   "outputs": [],
   "source": [
    "#Save file in your directory\n",
    "\n",
    "x.to_csv('linkedin.csv')"
   ]
  },
  {
   "cell_type": "code",
   "execution_count": 43,
   "id": "0fa9799b",
   "metadata": {},
   "outputs": [
    {
     "name": "stdout",
     "output_type": "stream",
     "text": [
      "['https://www.linkedin.com/jobs/view/software-engineer-at-interclypse-4020981491?position=1&pageNum=0&refId=T0rqnem6FlEGa0PUSn78AA%3D%3D&trackingId=E9SlUBapimGaGnkfGieDlQ%3D%3D&trk=public_jobs_jserp-result_search-card', 'https://www.linkedin.com/jobs/view/full-stack-web-developer-at-phoenix-recruitment-4020903686?position=2&pageNum=0&refId=T0rqnem6FlEGa0PUSn78AA%3D%3D&trackingId=x997zviT07ilhNkzByZPJg%3D%3D&trk=public_jobs_jserp-result_search-card', 'https://www.linkedin.com/jobs/view/full-stack-developer-vue-js-aws-spinnaker-docker-mongodb-node-js-express-js-at-pinnacle-group-inc-4020706005?position=3&pageNum=0&refId=T0rqnem6FlEGa0PUSn78AA%3D%3D&trackingId=6Y8PzS%2FXJZNoEWV7TTYFOw%3D%3D&trk=public_jobs_jserp-result_search-card', 'https://www.linkedin.com/jobs/view/full-stack-engineer-at-eteam-4019667093?position=4&pageNum=0&refId=T0rqnem6FlEGa0PUSn78AA%3D%3D&trackingId=qeB2ICGk7Q2ts3DVzpuiJw%3D%3D&trk=public_jobs_jserp-result_search-card', 'https://www.linkedin.com/jobs/view/terraform-developer-at-itc-infotech-4018453443?position=5&pageNum=0&refId=T0rqnem6FlEGa0PUSn78AA%3D%3D&trackingId=xqb5jM1eAPxAsCRLQ5Y1Kw%3D%3D&trk=public_jobs_jserp-result_search-card', 'https://www.linkedin.com/jobs/view/software-engineer-front-end-at-ss-c-technologies-3985171793?position=6&pageNum=0&refId=T0rqnem6FlEGa0PUSn78AA%3D%3D&trackingId=epiO6g%2F0HhOIGObPjsk92w%3D%3D&trk=public_jobs_jserp-result_search-card', 'https://www.linkedin.com/jobs/view/lead-software-engineer-at-gamestop-3840438746?position=7&pageNum=0&refId=T0rqnem6FlEGa0PUSn78AA%3D%3D&trackingId=7dpTmqJP6%2B%2Bm3J092S06zA%3D%3D&trk=public_jobs_jserp-result_search-card', 'https://www.linkedin.com/jobs/view/senior-frontend-developer-at-broadcom-software-3963202376?position=8&pageNum=0&refId=T0rqnem6FlEGa0PUSn78AA%3D%3D&trackingId=8LQ2GsyucEbILcH0jHPNcw%3D%3D&trk=public_jobs_jserp-result_search-card', 'https://www.linkedin.com/jobs/view/founding-engineer-incubator-at-adobe-3930906334?position=9&pageNum=0&refId=T0rqnem6FlEGa0PUSn78AA%3D%3D&trackingId=3qK0FQijG0oLGc5aWra1gw%3D%3D&trk=public_jobs_jserp-result_search-card', 'https://www.linkedin.com/jobs/view/software-developer-4-at-open-systems-inc-4018996107?position=10&pageNum=0&refId=T0rqnem6FlEGa0PUSn78AA%3D%3D&trackingId=61iQCgDOF%2B%2BQor%2BWTcQ%2BVw%3D%3D&trk=public_jobs_jserp-result_search-card', 'https://www.linkedin.com/jobs/view/senior-software-engineer-at-rightworks-4020932825?position=11&pageNum=0&refId=T0rqnem6FlEGa0PUSn78AA%3D%3D&trackingId=MRlELumaq05hAmpG3aTYZw%3D%3D&trk=public_jobs_jserp-result_search-card', 'https://www.linkedin.com/jobs/view/principal-consultant-java-developer-at-ampcus-inc-4019579971?position=12&pageNum=0&refId=T0rqnem6FlEGa0PUSn78AA%3D%3D&trackingId=AmbOs17PB8XlXFzJ9RqSrQ%3D%3D&trk=public_jobs_jserp-result_search-card', 'https://www.linkedin.com/jobs/view/application-developer-software-data-engineer-at-metronational-3985116296?position=13&pageNum=0&refId=T0rqnem6FlEGa0PUSn78AA%3D%3D&trackingId=QNITyMVGi6OpNBV5sw5hLw%3D%3D&trk=public_jobs_jserp-result_search-card', 'https://www.linkedin.com/jobs/view/payments-software-engineer-at-dice-4019642893?position=14&pageNum=0&refId=T0rqnem6FlEGa0PUSn78AA%3D%3D&trackingId=dAc5wATK7DR12F36xATB6w%3D%3D&trk=public_jobs_jserp-result_search-card', 'https://www.linkedin.com/jobs/view/software-engineer-ror-ruby-on-rails-at-verdant-infotech-solutions-4019579952?position=15&pageNum=0&refId=T0rqnem6FlEGa0PUSn78AA%3D%3D&trackingId=WemeI5JOTDxXfA6Ktt1wdQ%3D%3D&trk=public_jobs_jserp-result_search-card', 'https://www.linkedin.com/jobs/view/software-engineer-at-dice-4019645311?position=16&pageNum=0&refId=T0rqnem6FlEGa0PUSn78AA%3D%3D&trackingId=hyogUHINlr957KhqOurg4Q%3D%3D&trk=public_jobs_jserp-result_search-card', 'https://www.linkedin.com/jobs/view/senior-software-engineer-ii-ai-ml-at-aledade-inc-4020986374?position=17&pageNum=0&refId=T0rqnem6FlEGa0PUSn78AA%3D%3D&trackingId=6Rjc6LTFcExhvsx7DrWccA%3D%3D&trk=public_jobs_jserp-result_search-card', 'https://www.linkedin.com/jobs/view/senior-software-engineer-back-end-at-capital-one-4003742991?position=18&pageNum=0&refId=T0rqnem6FlEGa0PUSn78AA%3D%3D&trackingId=QuUbpjqve811YO3zmO2K5A%3D%3D&trk=public_jobs_jserp-result_search-card', 'https://www.linkedin.com/jobs/view/junior-ibmi-rpg-programmer-at-fathom-management-llc-4020975799?position=19&pageNum=0&refId=T0rqnem6FlEGa0PUSn78AA%3D%3D&trackingId=KfplAgy18%2BemBEgiJgTRjQ%3D%3D&trk=public_jobs_jserp-result_search-card', 'https://www.linkedin.com/jobs/view/cto-head-of-engineering-ai-full-stack-at-episodic-4020799495?position=20&pageNum=0&refId=T0rqnem6FlEGa0PUSn78AA%3D%3D&trackingId=FCJi5rRBLZfRFx8%2F1YLsmg%3D%3D&trk=public_jobs_jserp-result_search-card', 'https://www.linkedin.com/jobs/view/principal-software-engineer-digital-assets-apis-at-remoteworker-ca-4018989070?position=21&pageNum=0&refId=T0rqnem6FlEGa0PUSn78AA%3D%3D&trackingId=kKG8n7wuf33L8KwaQPSEiQ%3D%3D&trk=public_jobs_jserp-result_search-card', 'https://www.linkedin.com/jobs/view/lead-software-engineer-integrations-at-foot-locker-3949097814?position=22&pageNum=0&refId=T0rqnem6FlEGa0PUSn78AA%3D%3D&trackingId=H34lcg7SDg5VfoX%2FHGPyAQ%3D%3D&trk=public_jobs_jserp-result_search-card', 'https://www.linkedin.com/jobs/view/senior-software-engineer-back-end-at-capital-one-4003741970?position=23&pageNum=0&refId=T0rqnem6FlEGa0PUSn78AA%3D%3D&trackingId=frrlOZWhmeiEV6DrsTrKgA%3D%3D&trk=public_jobs_jserp-result_search-card', 'https://www.linkedin.com/jobs/view/hybrid-opportunity-for-sitecore-developer-in-dallas-for-our-direct-client-at-remoteworker-us-4019537192?position=24&pageNum=0&refId=T0rqnem6FlEGa0PUSn78AA%3D%3D&trackingId=lZ7CHVZsg4Ka4ChXjOMUwA%3D%3D&trk=public_jobs_jserp-result_search-card', 'https://www.linkedin.com/jobs/view/senior-full-stack-cloud-developer-at-dice-4019647001?position=25&pageNum=0&refId=T0rqnem6FlEGa0PUSn78AA%3D%3D&trackingId=nA2AAZPmwfTXvGFVoVHv4g%3D%3D&trk=public_jobs_jserp-result_search-card', 'https://www.linkedin.com/jobs/view/sr-software-engineer-cloud-platform-reliability-remote-at-crowdstrike-4019704911?position=26&pageNum=0&refId=T0rqnem6FlEGa0PUSn78AA%3D%3D&trackingId=7DS19OsnJcG6rY1ip7V9RQ%3D%3D&trk=public_jobs_jserp-result_search-card', 'https://www.linkedin.com/jobs/view/senior-react-native-developer-at-jobot-4019548094?position=27&pageNum=0&refId=T0rqnem6FlEGa0PUSn78AA%3D%3D&trackingId=7%2F85oj%2BCb%2F8JaB3MpxTpEg%3D%3D&trk=public_jobs_jserp-result_search-card', 'https://www.linkedin.com/jobs/view/remote-sr-backend-engineer-node-aws-serverless-architecture-at-cybercoders-3946210589?position=28&pageNum=0&refId=T0rqnem6FlEGa0PUSn78AA%3D%3D&trackingId=PBDVi1g3ykLzLYm%2FW0Ehng%3D%3D&trk=public_jobs_jserp-result_search-card', 'https://www.linkedin.com/jobs/view/lead-software-engineer-front-end-react-typescript-javascript-at-capital-one-3968200367?position=29&pageNum=0&refId=T0rqnem6FlEGa0PUSn78AA%3D%3D&trackingId=uXzhqaeCxJS97fuS90TOLg%3D%3D&trk=public_jobs_jserp-result_search-card', 'https://www.linkedin.com/jobs/view/senior-manager-software-engineering-back-end-at-capital-one-3985792598?position=30&pageNum=0&refId=T0rqnem6FlEGa0PUSn78AA%3D%3D&trackingId=Z34PGohrsH%2FzaWH6IGFvHg%3D%3D&trk=public_jobs_jserp-result_search-card', 'https://www.linkedin.com/jobs/view/senior-software-engineer-at-dice-4019643720?position=31&pageNum=0&refId=T0rqnem6FlEGa0PUSn78AA%3D%3D&trackingId=eFU21L1f3XvZ%2BiG93mipdQ%3D%3D&trk=public_jobs_jserp-result_search-card', 'https://www.linkedin.com/jobs/view/software-development-engineer-iii-ai-ml-or-gen-ai-at-gm-financial-3949345509?position=32&pageNum=0&refId=T0rqnem6FlEGa0PUSn78AA%3D%3D&trackingId=oKOmU2yMRHltIgQfBCH9Zg%3D%3D&trk=public_jobs_jserp-result_search-card', 'https://www.linkedin.com/jobs/view/lead-growth-engineer-at-jobot-4019546642?position=33&pageNum=0&refId=T0rqnem6FlEGa0PUSn78AA%3D%3D&trackingId=dF5LpWoWlHPAPH6t1TqACg%3D%3D&trk=public_jobs_jserp-result_search-card', 'https://www.linkedin.com/jobs/view/fullstack-engineer-angular-at-dice-4019648014?position=34&pageNum=0&refId=T0rqnem6FlEGa0PUSn78AA%3D%3D&trackingId=adeRkVcbRcEIE4JapD3EoQ%3D%3D&trk=public_jobs_jserp-result_search-card', 'https://www.linkedin.com/jobs/view/senior-lead-software-engineer-front-end-ic-at-capital-one-3968459393?position=35&pageNum=0&refId=T0rqnem6FlEGa0PUSn78AA%3D%3D&trackingId=LwJV4BJRXt3awZzLZQ1TqQ%3D%3D&trk=public_jobs_jserp-result_search-card', 'https://www.linkedin.com/jobs/view/senior-software-engineer-azure-compute-team-at-microsoft-3985172948?position=36&pageNum=0&refId=T0rqnem6FlEGa0PUSn78AA%3D%3D&trackingId=rwOMpNE08%2FZqlecGxXLBlw%3D%3D&trk=public_jobs_jserp-result_search-card', 'https://www.linkedin.com/jobs/view/senior-software-engineer-python-django-at-dice-4019644343?position=37&pageNum=0&refId=T0rqnem6FlEGa0PUSn78AA%3D%3D&trackingId=7yU70D7ijRs33IDWGw4tZg%3D%3D&trk=public_jobs_jserp-result_search-card', 'https://www.linkedin.com/jobs/view/retail-front-end-supervisor-full-time-at-burlington-stores-inc-3948735208?position=38&pageNum=0&refId=T0rqnem6FlEGa0PUSn78AA%3D%3D&trackingId=3AilmuEpLfHUmOlXif0hzA%3D%3D&trk=public_jobs_jserp-result_search-card', 'https://www.linkedin.com/jobs/view/retail-front-end-supervisor-full-time-at-burlington-stores-inc-3985193836?position=39&pageNum=0&refId=T0rqnem6FlEGa0PUSn78AA%3D%3D&trackingId=0qExWeUZLb37iu3wn1pacg%3D%3D&trk=public_jobs_jserp-result_search-card', 'https://www.linkedin.com/jobs/view/alarm-cctv-programmer-at-dice-4019641811?position=40&pageNum=0&refId=T0rqnem6FlEGa0PUSn78AA%3D%3D&trackingId=K%2BzMVYfhKb5HHYCXPe7j3Q%3D%3D&trk=public_jobs_jserp-result_search-card', 'https://www.linkedin.com/jobs/view/retail-front-end-supervisor-full-time-at-burlington-stores-inc-3950766801?position=41&pageNum=0&refId=T0rqnem6FlEGa0PUSn78AA%3D%3D&trackingId=9SuAShZ7ivRrXRoIMcPWOQ%3D%3D&trk=public_jobs_jserp-result_search-card', 'https://www.linkedin.com/jobs/view/sr-ruby-on-rails-engineer-security-at-aha%21-4020704217?position=42&pageNum=0&refId=T0rqnem6FlEGa0PUSn78AA%3D%3D&trackingId=vaK5dDXbmBlQ0nlFDkiCTg%3D%3D&trk=public_jobs_jserp-result_search-card', 'https://www.linkedin.com/jobs/view/sr-ruby-on-rails-engineer-security-at-aha%21-4020708005?position=43&pageNum=0&refId=T0rqnem6FlEGa0PUSn78AA%3D%3D&trackingId=9Fok7Xtdw2l7fWDNsf6Q2g%3D%3D&trk=public_jobs_jserp-result_search-card', 'https://www.linkedin.com/jobs/view/sr-ruby-on-rails-engineer-security-at-aha%21-4020701778?position=44&pageNum=0&refId=T0rqnem6FlEGa0PUSn78AA%3D%3D&trackingId=wH4CzuAseI7C7SFY%2F2grvw%3D%3D&trk=public_jobs_jserp-result_search-card', 'https://www.linkedin.com/jobs/view/sr-ruby-on-rails-engineer-security-at-aha%21-4020703533?position=45&pageNum=0&refId=T0rqnem6FlEGa0PUSn78AA%3D%3D&trackingId=TejXUQEAU4LZVdM6HX9Snw%3D%3D&trk=public_jobs_jserp-result_search-card', 'https://www.linkedin.com/jobs/view/sr-ruby-on-rails-engineer-security-at-aha%21-4020706058?position=46&pageNum=0&refId=T0rqnem6FlEGa0PUSn78AA%3D%3D&trackingId=Rc5JNQnxDX1ay4wJ%2FE9YVw%3D%3D&trk=public_jobs_jserp-result_search-card']\n"
     ]
    }
   ],
   "source": [
    "hrefList = []\n",
    "\n",
    "try:\n",
    "    # Find all elements with the class name\n",
    "    jobList = driver.find_elements(By.CLASS_NAME, 'base-card__full-link')\n",
    "    \n",
    "    for e in jobList:\n",
    "        # Get the href attribute of each element\n",
    "        href = e.get_attribute('href')\n",
    "        hrefList.append(href)\n",
    "\n",
    "except Exception as e:\n",
    "    print(f\"Error occurred: {e}\")\n",
    "\n",
    "print(hrefList)\n"
   ]
  },
  {
   "cell_type": "code",
   "execution_count": 44,
   "id": "34e8d5be",
   "metadata": {},
   "outputs": [
    {
     "data": {
      "text/plain": [
       "['https://www.linkedin.com/jobs/view/software-engineer-at-interclypse-4020981491?position=1&pageNum=0&refId=T0rqnem6FlEGa0PUSn78AA%3D%3D&trackingId=E9SlUBapimGaGnkfGieDlQ%3D%3D&trk=public_jobs_jserp-result_search-card',\n",
       " 'https://www.linkedin.com/jobs/view/full-stack-web-developer-at-phoenix-recruitment-4020903686?position=2&pageNum=0&refId=T0rqnem6FlEGa0PUSn78AA%3D%3D&trackingId=x997zviT07ilhNkzByZPJg%3D%3D&trk=public_jobs_jserp-result_search-card',\n",
       " 'https://www.linkedin.com/jobs/view/full-stack-developer-vue-js-aws-spinnaker-docker-mongodb-node-js-express-js-at-pinnacle-group-inc-4020706005?position=3&pageNum=0&refId=T0rqnem6FlEGa0PUSn78AA%3D%3D&trackingId=6Y8PzS%2FXJZNoEWV7TTYFOw%3D%3D&trk=public_jobs_jserp-result_search-card',\n",
       " 'https://www.linkedin.com/jobs/view/full-stack-engineer-at-eteam-4019667093?position=4&pageNum=0&refId=T0rqnem6FlEGa0PUSn78AA%3D%3D&trackingId=qeB2ICGk7Q2ts3DVzpuiJw%3D%3D&trk=public_jobs_jserp-result_search-card',\n",
       " 'https://www.linkedin.com/jobs/view/terraform-developer-at-itc-infotech-4018453443?position=5&pageNum=0&refId=T0rqnem6FlEGa0PUSn78AA%3D%3D&trackingId=xqb5jM1eAPxAsCRLQ5Y1Kw%3D%3D&trk=public_jobs_jserp-result_search-card',\n",
       " 'https://www.linkedin.com/jobs/view/software-engineer-front-end-at-ss-c-technologies-3985171793?position=6&pageNum=0&refId=T0rqnem6FlEGa0PUSn78AA%3D%3D&trackingId=epiO6g%2F0HhOIGObPjsk92w%3D%3D&trk=public_jobs_jserp-result_search-card',\n",
       " 'https://www.linkedin.com/jobs/view/lead-software-engineer-at-gamestop-3840438746?position=7&pageNum=0&refId=T0rqnem6FlEGa0PUSn78AA%3D%3D&trackingId=7dpTmqJP6%2B%2Bm3J092S06zA%3D%3D&trk=public_jobs_jserp-result_search-card',\n",
       " 'https://www.linkedin.com/jobs/view/senior-frontend-developer-at-broadcom-software-3963202376?position=8&pageNum=0&refId=T0rqnem6FlEGa0PUSn78AA%3D%3D&trackingId=8LQ2GsyucEbILcH0jHPNcw%3D%3D&trk=public_jobs_jserp-result_search-card',\n",
       " 'https://www.linkedin.com/jobs/view/founding-engineer-incubator-at-adobe-3930906334?position=9&pageNum=0&refId=T0rqnem6FlEGa0PUSn78AA%3D%3D&trackingId=3qK0FQijG0oLGc5aWra1gw%3D%3D&trk=public_jobs_jserp-result_search-card',\n",
       " 'https://www.linkedin.com/jobs/view/software-developer-4-at-open-systems-inc-4018996107?position=10&pageNum=0&refId=T0rqnem6FlEGa0PUSn78AA%3D%3D&trackingId=61iQCgDOF%2B%2BQor%2BWTcQ%2BVw%3D%3D&trk=public_jobs_jserp-result_search-card',\n",
       " 'https://www.linkedin.com/jobs/view/senior-software-engineer-at-rightworks-4020932825?position=11&pageNum=0&refId=T0rqnem6FlEGa0PUSn78AA%3D%3D&trackingId=MRlELumaq05hAmpG3aTYZw%3D%3D&trk=public_jobs_jserp-result_search-card',\n",
       " 'https://www.linkedin.com/jobs/view/principal-consultant-java-developer-at-ampcus-inc-4019579971?position=12&pageNum=0&refId=T0rqnem6FlEGa0PUSn78AA%3D%3D&trackingId=AmbOs17PB8XlXFzJ9RqSrQ%3D%3D&trk=public_jobs_jserp-result_search-card',\n",
       " 'https://www.linkedin.com/jobs/view/application-developer-software-data-engineer-at-metronational-3985116296?position=13&pageNum=0&refId=T0rqnem6FlEGa0PUSn78AA%3D%3D&trackingId=QNITyMVGi6OpNBV5sw5hLw%3D%3D&trk=public_jobs_jserp-result_search-card',\n",
       " 'https://www.linkedin.com/jobs/view/payments-software-engineer-at-dice-4019642893?position=14&pageNum=0&refId=T0rqnem6FlEGa0PUSn78AA%3D%3D&trackingId=dAc5wATK7DR12F36xATB6w%3D%3D&trk=public_jobs_jserp-result_search-card',\n",
       " 'https://www.linkedin.com/jobs/view/software-engineer-ror-ruby-on-rails-at-verdant-infotech-solutions-4019579952?position=15&pageNum=0&refId=T0rqnem6FlEGa0PUSn78AA%3D%3D&trackingId=WemeI5JOTDxXfA6Ktt1wdQ%3D%3D&trk=public_jobs_jserp-result_search-card',\n",
       " 'https://www.linkedin.com/jobs/view/software-engineer-at-dice-4019645311?position=16&pageNum=0&refId=T0rqnem6FlEGa0PUSn78AA%3D%3D&trackingId=hyogUHINlr957KhqOurg4Q%3D%3D&trk=public_jobs_jserp-result_search-card',\n",
       " 'https://www.linkedin.com/jobs/view/senior-software-engineer-ii-ai-ml-at-aledade-inc-4020986374?position=17&pageNum=0&refId=T0rqnem6FlEGa0PUSn78AA%3D%3D&trackingId=6Rjc6LTFcExhvsx7DrWccA%3D%3D&trk=public_jobs_jserp-result_search-card',\n",
       " 'https://www.linkedin.com/jobs/view/senior-software-engineer-back-end-at-capital-one-4003742991?position=18&pageNum=0&refId=T0rqnem6FlEGa0PUSn78AA%3D%3D&trackingId=QuUbpjqve811YO3zmO2K5A%3D%3D&trk=public_jobs_jserp-result_search-card',\n",
       " 'https://www.linkedin.com/jobs/view/junior-ibmi-rpg-programmer-at-fathom-management-llc-4020975799?position=19&pageNum=0&refId=T0rqnem6FlEGa0PUSn78AA%3D%3D&trackingId=KfplAgy18%2BemBEgiJgTRjQ%3D%3D&trk=public_jobs_jserp-result_search-card',\n",
       " 'https://www.linkedin.com/jobs/view/cto-head-of-engineering-ai-full-stack-at-episodic-4020799495?position=20&pageNum=0&refId=T0rqnem6FlEGa0PUSn78AA%3D%3D&trackingId=FCJi5rRBLZfRFx8%2F1YLsmg%3D%3D&trk=public_jobs_jserp-result_search-card',\n",
       " 'https://www.linkedin.com/jobs/view/principal-software-engineer-digital-assets-apis-at-remoteworker-ca-4018989070?position=21&pageNum=0&refId=T0rqnem6FlEGa0PUSn78AA%3D%3D&trackingId=kKG8n7wuf33L8KwaQPSEiQ%3D%3D&trk=public_jobs_jserp-result_search-card',\n",
       " 'https://www.linkedin.com/jobs/view/lead-software-engineer-integrations-at-foot-locker-3949097814?position=22&pageNum=0&refId=T0rqnem6FlEGa0PUSn78AA%3D%3D&trackingId=H34lcg7SDg5VfoX%2FHGPyAQ%3D%3D&trk=public_jobs_jserp-result_search-card',\n",
       " 'https://www.linkedin.com/jobs/view/senior-software-engineer-back-end-at-capital-one-4003741970?position=23&pageNum=0&refId=T0rqnem6FlEGa0PUSn78AA%3D%3D&trackingId=frrlOZWhmeiEV6DrsTrKgA%3D%3D&trk=public_jobs_jserp-result_search-card',\n",
       " 'https://www.linkedin.com/jobs/view/hybrid-opportunity-for-sitecore-developer-in-dallas-for-our-direct-client-at-remoteworker-us-4019537192?position=24&pageNum=0&refId=T0rqnem6FlEGa0PUSn78AA%3D%3D&trackingId=lZ7CHVZsg4Ka4ChXjOMUwA%3D%3D&trk=public_jobs_jserp-result_search-card',\n",
       " 'https://www.linkedin.com/jobs/view/senior-full-stack-cloud-developer-at-dice-4019647001?position=25&pageNum=0&refId=T0rqnem6FlEGa0PUSn78AA%3D%3D&trackingId=nA2AAZPmwfTXvGFVoVHv4g%3D%3D&trk=public_jobs_jserp-result_search-card',\n",
       " 'https://www.linkedin.com/jobs/view/sr-software-engineer-cloud-platform-reliability-remote-at-crowdstrike-4019704911?position=26&pageNum=0&refId=T0rqnem6FlEGa0PUSn78AA%3D%3D&trackingId=7DS19OsnJcG6rY1ip7V9RQ%3D%3D&trk=public_jobs_jserp-result_search-card',\n",
       " 'https://www.linkedin.com/jobs/view/senior-react-native-developer-at-jobot-4019548094?position=27&pageNum=0&refId=T0rqnem6FlEGa0PUSn78AA%3D%3D&trackingId=7%2F85oj%2BCb%2F8JaB3MpxTpEg%3D%3D&trk=public_jobs_jserp-result_search-card',\n",
       " 'https://www.linkedin.com/jobs/view/remote-sr-backend-engineer-node-aws-serverless-architecture-at-cybercoders-3946210589?position=28&pageNum=0&refId=T0rqnem6FlEGa0PUSn78AA%3D%3D&trackingId=PBDVi1g3ykLzLYm%2FW0Ehng%3D%3D&trk=public_jobs_jserp-result_search-card',\n",
       " 'https://www.linkedin.com/jobs/view/lead-software-engineer-front-end-react-typescript-javascript-at-capital-one-3968200367?position=29&pageNum=0&refId=T0rqnem6FlEGa0PUSn78AA%3D%3D&trackingId=uXzhqaeCxJS97fuS90TOLg%3D%3D&trk=public_jobs_jserp-result_search-card',\n",
       " 'https://www.linkedin.com/jobs/view/senior-manager-software-engineering-back-end-at-capital-one-3985792598?position=30&pageNum=0&refId=T0rqnem6FlEGa0PUSn78AA%3D%3D&trackingId=Z34PGohrsH%2FzaWH6IGFvHg%3D%3D&trk=public_jobs_jserp-result_search-card',\n",
       " 'https://www.linkedin.com/jobs/view/senior-software-engineer-at-dice-4019643720?position=31&pageNum=0&refId=T0rqnem6FlEGa0PUSn78AA%3D%3D&trackingId=eFU21L1f3XvZ%2BiG93mipdQ%3D%3D&trk=public_jobs_jserp-result_search-card',\n",
       " 'https://www.linkedin.com/jobs/view/software-development-engineer-iii-ai-ml-or-gen-ai-at-gm-financial-3949345509?position=32&pageNum=0&refId=T0rqnem6FlEGa0PUSn78AA%3D%3D&trackingId=oKOmU2yMRHltIgQfBCH9Zg%3D%3D&trk=public_jobs_jserp-result_search-card',\n",
       " 'https://www.linkedin.com/jobs/view/lead-growth-engineer-at-jobot-4019546642?position=33&pageNum=0&refId=T0rqnem6FlEGa0PUSn78AA%3D%3D&trackingId=dF5LpWoWlHPAPH6t1TqACg%3D%3D&trk=public_jobs_jserp-result_search-card',\n",
       " 'https://www.linkedin.com/jobs/view/fullstack-engineer-angular-at-dice-4019648014?position=34&pageNum=0&refId=T0rqnem6FlEGa0PUSn78AA%3D%3D&trackingId=adeRkVcbRcEIE4JapD3EoQ%3D%3D&trk=public_jobs_jserp-result_search-card',\n",
       " 'https://www.linkedin.com/jobs/view/senior-lead-software-engineer-front-end-ic-at-capital-one-3968459393?position=35&pageNum=0&refId=T0rqnem6FlEGa0PUSn78AA%3D%3D&trackingId=LwJV4BJRXt3awZzLZQ1TqQ%3D%3D&trk=public_jobs_jserp-result_search-card',\n",
       " 'https://www.linkedin.com/jobs/view/senior-software-engineer-azure-compute-team-at-microsoft-3985172948?position=36&pageNum=0&refId=T0rqnem6FlEGa0PUSn78AA%3D%3D&trackingId=rwOMpNE08%2FZqlecGxXLBlw%3D%3D&trk=public_jobs_jserp-result_search-card',\n",
       " 'https://www.linkedin.com/jobs/view/senior-software-engineer-python-django-at-dice-4019644343?position=37&pageNum=0&refId=T0rqnem6FlEGa0PUSn78AA%3D%3D&trackingId=7yU70D7ijRs33IDWGw4tZg%3D%3D&trk=public_jobs_jserp-result_search-card',\n",
       " 'https://www.linkedin.com/jobs/view/retail-front-end-supervisor-full-time-at-burlington-stores-inc-3948735208?position=38&pageNum=0&refId=T0rqnem6FlEGa0PUSn78AA%3D%3D&trackingId=3AilmuEpLfHUmOlXif0hzA%3D%3D&trk=public_jobs_jserp-result_search-card',\n",
       " 'https://www.linkedin.com/jobs/view/retail-front-end-supervisor-full-time-at-burlington-stores-inc-3985193836?position=39&pageNum=0&refId=T0rqnem6FlEGa0PUSn78AA%3D%3D&trackingId=0qExWeUZLb37iu3wn1pacg%3D%3D&trk=public_jobs_jserp-result_search-card',\n",
       " 'https://www.linkedin.com/jobs/view/alarm-cctv-programmer-at-dice-4019641811?position=40&pageNum=0&refId=T0rqnem6FlEGa0PUSn78AA%3D%3D&trackingId=K%2BzMVYfhKb5HHYCXPe7j3Q%3D%3D&trk=public_jobs_jserp-result_search-card',\n",
       " 'https://www.linkedin.com/jobs/view/retail-front-end-supervisor-full-time-at-burlington-stores-inc-3950766801?position=41&pageNum=0&refId=T0rqnem6FlEGa0PUSn78AA%3D%3D&trackingId=9SuAShZ7ivRrXRoIMcPWOQ%3D%3D&trk=public_jobs_jserp-result_search-card',\n",
       " 'https://www.linkedin.com/jobs/view/sr-ruby-on-rails-engineer-security-at-aha%21-4020704217?position=42&pageNum=0&refId=T0rqnem6FlEGa0PUSn78AA%3D%3D&trackingId=vaK5dDXbmBlQ0nlFDkiCTg%3D%3D&trk=public_jobs_jserp-result_search-card',\n",
       " 'https://www.linkedin.com/jobs/view/sr-ruby-on-rails-engineer-security-at-aha%21-4020708005?position=43&pageNum=0&refId=T0rqnem6FlEGa0PUSn78AA%3D%3D&trackingId=9Fok7Xtdw2l7fWDNsf6Q2g%3D%3D&trk=public_jobs_jserp-result_search-card',\n",
       " 'https://www.linkedin.com/jobs/view/sr-ruby-on-rails-engineer-security-at-aha%21-4020701778?position=44&pageNum=0&refId=T0rqnem6FlEGa0PUSn78AA%3D%3D&trackingId=wH4CzuAseI7C7SFY%2F2grvw%3D%3D&trk=public_jobs_jserp-result_search-card',\n",
       " 'https://www.linkedin.com/jobs/view/sr-ruby-on-rails-engineer-security-at-aha%21-4020703533?position=45&pageNum=0&refId=T0rqnem6FlEGa0PUSn78AA%3D%3D&trackingId=TejXUQEAU4LZVdM6HX9Snw%3D%3D&trk=public_jobs_jserp-result_search-card',\n",
       " 'https://www.linkedin.com/jobs/view/sr-ruby-on-rails-engineer-security-at-aha%21-4020706058?position=46&pageNum=0&refId=T0rqnem6FlEGa0PUSn78AA%3D%3D&trackingId=Rc5JNQnxDX1ay4wJ%2FE9YVw%3D%3D&trk=public_jobs_jserp-result_search-card']"
      ]
     },
     "execution_count": 44,
     "metadata": {},
     "output_type": "execute_result"
    }
   ],
   "source": [
    "hrefList"
   ]
  },
  {
   "cell_type": "code",
   "execution_count": 45,
   "id": "7a1c830b",
   "metadata": {},
   "outputs": [
    {
     "data": {
      "text/plain": [
       "46"
      ]
     },
     "execution_count": 45,
     "metadata": {},
     "output_type": "execute_result"
    }
   ],
   "source": [
    "len(hrefList)"
   ]
  },
  {
   "cell_type": "code",
   "execution_count": 46,
   "id": "c321fd0a",
   "metadata": {},
   "outputs": [],
   "source": [
    "linklist=pd.DataFrame(hrefList,columns=[\"joblinks\"])\n"
   ]
  },
  {
   "cell_type": "code",
   "execution_count": 47,
   "id": "0ac82cc9",
   "metadata": {},
   "outputs": [],
   "source": [
    "linklist.to_csv('linkedinlinks.csv')"
   ]
  },
  {
   "cell_type": "code",
   "execution_count": 48,
   "id": "a02ab5af",
   "metadata": {},
   "outputs": [],
   "source": [
    "#Close the driver\n",
    "\n",
    "driver.close()"
   ]
  },
  {
   "cell_type": "code",
   "execution_count": null,
   "id": "3520a587",
   "metadata": {},
   "outputs": [],
   "source": []
  }
 ],
 "metadata": {
  "kernelspec": {
   "display_name": "Python 3 (ipykernel)",
   "language": "python",
   "name": "python3"
  },
  "language_info": {
   "codemirror_mode": {
    "name": "ipython",
    "version": 3
   },
   "file_extension": ".py",
   "mimetype": "text/x-python",
   "name": "python",
   "nbconvert_exporter": "python",
   "pygments_lexer": "ipython3",
   "version": "3.11.4"
  }
 },
 "nbformat": 4,
 "nbformat_minor": 5
}
